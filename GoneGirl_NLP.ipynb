{
 "cells": [
  {
   "cell_type": "markdown",
   "id": "9df3744d",
   "metadata": {},
   "source": [
    "# **NLP Processing for** ***Gone Girl***"
   ]
  },
  {
   "cell_type": "code",
   "execution_count": 1,
   "id": "97e4de5d",
   "metadata": {},
   "outputs": [
    {
     "name": "stdout",
     "output_type": "stream",
     "text": [
      "using device cpu\n"
     ]
    }
   ],
   "source": [
    "# project imports\n",
    "from booknlp.booknlp import BookNLP"
   ]
  },
  {
   "cell_type": "code",
   "execution_count": 2,
   "id": "001671e6",
   "metadata": {},
   "outputs": [
    {
     "name": "stdout",
     "output_type": "stream",
     "text": [
      "{'pipeline': 'entity,quote,supersense,event,coref', 'model': 'big'}\n",
      "--- startup: 6.623 seconds ---\n",
      "--- spacy: 17.788 seconds ---\n",
      "--- entities: 373.838 seconds ---\n",
      "--- quotes: 0.131 seconds ---\n",
      "--- attribution: 862.598 seconds ---\n",
      "--- name coref: 0.818 seconds ---\n",
      "--- coref: 467.263 seconds ---\n",
      "--- TOTAL (excl. startup): 1723.809 seconds ---, 187416 words\n"
     ]
    }
   ],
   "source": [
    "# process Gone Girl by Gillian Flynn\n",
    "# note: code leveraged from the BookNLP documentation\n",
    "model_params = {\n",
    "    \"pipeline\":\"entity,quote,supersense,event,coref\", \n",
    "    \"model\":\"big\"\n",
    "}\n",
    "    \n",
    "booknlp = BookNLP(\"en\", model_params)\n",
    "\n",
    "# Input file to process\n",
    "input_file = r\"C:\\Users\\tracypaige\\LTCS180\\txt_gillian_flynn\\gone_girl.txt\"\n",
    "\n",
    "# Output directory to store resulting files in\n",
    "output_directory = r\"C:\\Users\\tracypaige\\LTCS180\\bookNLP_gillian_flynn\\gone_girl\"\n",
    "\n",
    "# File within this directory will be named ${book_id}.entities, ${book_id}.tokens, etc.\n",
    "book_id = \"gone_girl\"\n",
    "\n",
    "booknlp.process(input_file, output_directory, book_id)"
   ]
  }
 ],
 "metadata": {
  "kernelspec": {
   "display_name": "Python 3 (ipykernel)",
   "language": "python",
   "name": "python3"
  },
  "language_info": {
   "codemirror_mode": {
    "name": "ipython",
    "version": 3
   },
   "file_extension": ".py",
   "mimetype": "text/x-python",
   "name": "python",
   "nbconvert_exporter": "python",
   "pygments_lexer": "ipython3",
   "version": "3.11.5"
  }
 },
 "nbformat": 4,
 "nbformat_minor": 5
}
